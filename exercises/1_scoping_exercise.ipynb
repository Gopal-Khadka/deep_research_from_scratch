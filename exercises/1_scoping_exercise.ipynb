{
 "cells": [
  {
   "cell_type": "markdown",
   "metadata": {},
   "source": [
    "# Exercise: Alternet User Clarification and Brief Generation\n",
    "\n",
    "In the lesson, you were presented with an invitation to try an altenate implementation.\n",
    "\n",
    "One implementation of this is shown below. You can compare it to your implementation. \n",
    "You can add suggestions or comments to the course or the student forum.\n",
    "\n",
    "-----------\n",
    "\n",
    "In this notebook, we used **structured output** with Pydantic schemas (`ClarifyWithUser`) to control workflow decisions. \n",
    "\n",
    "However, there's an alternative approach using **tool binding** that's worth exploring.\n",
    "\n",
    "#### Structured Output v Tool Calling\n",
    "\n",
    "```python\n",
    "structured_output_model = model.with_structured_output(ClarifyWithUser)\n",
    "response = structured_output_model.invoke([...])\n",
    "\n",
    "if response.need_clarification:\n",
    "    return Command(goto=END, ...)\n",
    "else:\n",
    "    return Command(goto=\"write_research_brief\", ...)\n",
    "```\n",
    "\n",
    "**Benefits:**\n",
    "- Predictable, deterministic workflow control\n",
    "- Clear schema validation  \n",
    "- Less prone to hallucination\n",
    "- Faster and more cost-effective\n",
    "\n",
    "Instead of structured output, we could bind tools to the LLM to tell it to go ahead and write the research brief.\n",
    "\n",
    "```python\n",
    "def proceed_with_research(verification_message: str) -> str:\n",
    "    \"\"\"Call this tool when you have enough information to proceed with research.\"\"\"\n",
    "    return f\"Proceeding with research: {verification_message}\"\n",
    "\n",
    "# Bind tools to model\n",
    "llm_with_tools = model.bind_tools([proceed_with_research])\n",
    "\n",
    "def clarify_with_user(state: AgentState):\n",
    "    response = llm_with_tools.invoke([...])\n",
    "    \n",
    "    # Check if tools were called\n",
    "    if response.tool_calls:\n",
    "        tool_call = response.tool_calls[0]\n",
    "        if tool_call[\"name\"] == \"proceed_with_research\":\n",
    "            return Command(goto=\"write_research_brief\", update={\"messages\": [AIMessage(content=tool_call[\"args\"][\"verification_message\"])]})\n",
    "    \n",
    "    ...\n",
    "```\n",
    "\n",
    "Try implementing the tool calling approach.\n",
    "\n",
    "You will need to modify the prompts to instruct the LLM to use the tool. \n",
    "\n",
    "This also gives to more feedback to add additional tools in this scoping phase, if needed! \n",
    "\n"
   ]
  },
  {
   "cell_type": "code",
   "execution_count": 1,
   "metadata": {},
   "outputs": [],
   "source": [
    "#%%writefile ../src/deep_research_from_scratch/state.py\n",
    "\n",
    "from typing import Optional\n",
    "from pydantic import BaseModel, Field\n",
    "from langgraph.graph import MessagesState\n",
    "\n",
    "class AgentState(MessagesState):\n",
    "    research_brief: Optional[str]\n",
    "\n",
    "class ClarifyWithUser(BaseModel):\n",
    "    need_clarification: bool = Field(\n",
    "        description=\"Whether the user needs to be asked a clarifying question.\",\n",
    "    )\n",
    "    question: str = Field(\n",
    "        description=\"A question to ask the user to clarify the report scope\",\n",
    "    )\n",
    "    verification: str = Field(\n",
    "        description=\"Verify message that we will start research after the user has provided the necessary information.\",\n",
    "    )\n",
    "\n",
    "class ResearchQuestion(BaseModel):\n",
    "    research_brief: str = Field(\n",
    "        description=\"A research question that will be used to guide the research.\",\n",
    "    )"
   ]
  },
  {
   "cell_type": "code",
   "execution_count": 63,
   "metadata": {},
   "outputs": [],
   "source": [
    "import sys\n",
    "sys.path.append(\"../src/\")"
   ]
  },
  {
   "cell_type": "code",
   "execution_count": 64,
   "metadata": {},
   "outputs": [
    {
     "data": {
      "text/html": [
       "<pre style=\"white-space:pre;overflow-x:auto;line-height:normal;font-family:Menlo,'DejaVu Sans Mono',consolas,'Courier New',monospace\">\n",
       "\n",
       "These are the messages that have been exchanged so far from the user asking for the report:  {messages}            \n",
       "\n",
       "Today's date is {date}.                                                                                            \n",
       "\n",
       "Assess whether you need to ask a clarifying question, or if the user has already provided enough information for   \n",
       "you to start research. IMPORTANT: If you can see in the messages history that you have already asked a clarifying  \n",
       "question, you almost always do not need to ask another one. Only ask another question if ABSOLUTELY NECESSARY.     \n",
       "\n",
       "If there are acronyms, abbreviations, or unknown terms, ask the user to clarify. If you need to ask a question,    \n",
       "follow these guidelines:                                                                                           \n",
       "\n",
       "<span style=\"color: #808000; text-decoration-color: #808000; font-weight: bold\"> • </span>Be concise while gathering all necessary information                                                            \n",
       "<span style=\"color: #808000; text-decoration-color: #808000; font-weight: bold\"> • </span>Make sure to gather all the information needed to carry out the research task in a concise, well-structured     \n",
       "<span style=\"color: #808000; text-decoration-color: #808000; font-weight: bold\">   </span>manner.                                                                                                         \n",
       "<span style=\"color: #808000; text-decoration-color: #808000; font-weight: bold\"> • </span>Use bullet points or numbered lists if appropriate for clarity. Make sure that this uses markdown formatting and\n",
       "<span style=\"color: #808000; text-decoration-color: #808000; font-weight: bold\">   </span>will be rendered correctly if the string output is passed to a markdown renderer.                               \n",
       "<span style=\"color: #808000; text-decoration-color: #808000; font-weight: bold\"> • </span>Don't ask for unnecessary information, or information that the user has already provided. If you can see that   \n",
       "<span style=\"color: #808000; text-decoration-color: #808000; font-weight: bold\">   </span>the user has already provided the information, do not ask for it again.                                         \n",
       "\n",
       "\n",
       "\n",
       "Respond in valid JSON format with these exact keys: \"need_clarification\": boolean, \"question\": \"\", \"verification\": \n",
       "\"\"                                                                                                                 \n",
       "\n",
       "\n",
       "If you need to ask a clarifying question, return: \"need_clarification\": true, \"question\": \"\", \"verification\": \"\"   \n",
       "\n",
       "\n",
       "If you do not need to ask a clarifying question, return: \"need_clarification\": false, \"question\": \"\",              \n",
       "\"verification\": \"\"                                                                                                 \n",
       "\n",
       "For the verification message when no clarification is needed:                                                      \n",
       "\n",
       "<span style=\"color: #808000; text-decoration-color: #808000; font-weight: bold\"> • </span>Acknowledge that you have sufficient information to proceed                                                     \n",
       "<span style=\"color: #808000; text-decoration-color: #808000; font-weight: bold\"> • </span>Briefly summarize the key aspects of what you understand from their request                                     \n",
       "<span style=\"color: #808000; text-decoration-color: #808000; font-weight: bold\"> • </span>Confirm that you will now begin the research process                                                            \n",
       "<span style=\"color: #808000; text-decoration-color: #808000; font-weight: bold\"> • </span>Keep the message concise and professional                                                                       \n",
       "</pre>\n"
      ],
      "text/plain": [
       "\n",
       "\n",
       "These are the messages that have been exchanged so far from the user asking for the report:  {messages}            \n",
       "\n",
       "Today's date is {date}.                                                                                            \n",
       "\n",
       "Assess whether you need to ask a clarifying question, or if the user has already provided enough information for   \n",
       "you to start research. IMPORTANT: If you can see in the messages history that you have already asked a clarifying  \n",
       "question, you almost always do not need to ask another one. Only ask another question if ABSOLUTELY NECESSARY.     \n",
       "\n",
       "If there are acronyms, abbreviations, or unknown terms, ask the user to clarify. If you need to ask a question,    \n",
       "follow these guidelines:                                                                                           \n",
       "\n",
       "\u001b[1;33m • \u001b[0mBe concise while gathering all necessary information                                                            \n",
       "\u001b[1;33m • \u001b[0mMake sure to gather all the information needed to carry out the research task in a concise, well-structured     \n",
       "\u001b[1;33m   \u001b[0mmanner.                                                                                                         \n",
       "\u001b[1;33m • \u001b[0mUse bullet points or numbered lists if appropriate for clarity. Make sure that this uses markdown formatting and\n",
       "\u001b[1;33m   \u001b[0mwill be rendered correctly if the string output is passed to a markdown renderer.                               \n",
       "\u001b[1;33m • \u001b[0mDon't ask for unnecessary information, or information that the user has already provided. If you can see that   \n",
       "\u001b[1;33m   \u001b[0mthe user has already provided the information, do not ask for it again.                                         \n",
       "\n",
       "\n",
       "\n",
       "Respond in valid JSON format with these exact keys: \"need_clarification\": boolean, \"question\": \"\", \"verification\": \n",
       "\"\"                                                                                                                 \n",
       "\n",
       "\n",
       "If you need to ask a clarifying question, return: \"need_clarification\": true, \"question\": \"\", \"verification\": \"\"   \n",
       "\n",
       "\n",
       "If you do not need to ask a clarifying question, return: \"need_clarification\": false, \"question\": \"\",              \n",
       "\"verification\": \"\"                                                                                                 \n",
       "\n",
       "For the verification message when no clarification is needed:                                                      \n",
       "\n",
       "\u001b[1;33m • \u001b[0mAcknowledge that you have sufficient information to proceed                                                     \n",
       "\u001b[1;33m • \u001b[0mBriefly summarize the key aspects of what you understand from their request                                     \n",
       "\u001b[1;33m • \u001b[0mConfirm that you will now begin the research process                                                            \n",
       "\u001b[1;33m • \u001b[0mKeep the message concise and professional                                                                       \n"
      ]
     },
     "execution_count": 64,
     "metadata": {},
     "output_type": "execute_result"
    }
   ],
   "source": [
    "from rich.markdown import Markdown\n",
    "from deep_research_from_scratch.prompts import clarify_with_user_instructions\n",
    "Markdown(clarify_with_user_instructions)"
   ]
  },
  {
   "cell_type": "code",
   "execution_count": 85,
   "metadata": {},
   "outputs": [],
   "source": [
    "clarify_with_user_instructions_tools_version=\"\"\"\n",
    "These are the messages that have been exchanged so far from the user asking for the report:\n",
    "<Messages>\n",
    "{messages}\n",
    "</Messages>\n",
    "\n",
    "Today's date is {date}.\n",
    "\n",
    "Assess whether you need to ask a clarifying question, or if the user has already provided enough information for you to start research.\n",
    "IMPORTANT: If you can see in the messages history that you have already asked a clarifying question, \n",
    "you almost always do not need to ask another one. Only ask another question if ABSOLUTELY NECESSARY.\n",
    "\n",
    "If there are acronyms, abbreviations, or unknown terms, ask the user to clarify.\n",
    "If you need to ask a question, follow these guidelines:\n",
    "- Be concise while gathering all necessary information\n",
    "- Make sure to gather all the information needed to carry out the research task in a concise, well-structured manner.\n",
    "- Use bullet points or numbered lists if appropriate for clarity. Make sure that this uses markdown formatting and will be rendered correctly if the string output is passed to a markdown renderer.\n",
    "- Don't ask for unnecessary information, or information that the user has already provided. If you can see that the user has already provided the information, do not ask for it again.\n",
    "\n",
    "Respond with a verification messages and proceed with research if you do not need more clarifying questions.\n",
    "If you need more information, respond with a question for the user.\n",
    "\"\"\""
   ]
  },
  {
   "cell_type": "markdown",
   "metadata": {},
   "source": [
    "### Workflow\n",
    "\n",
    "At this stage of the workflow, we use structured output to make clear, deterministic decisions about whether we have sufficient context to proceed with research. This approach has several advantages:\n",
    "- **Predictability**: The decision logic is explicit and consistent\n",
    "- **Reliability**: Less prone to hallucination or unexpected behavior\n",
    "- **Debuggability**: Easy to understand why a particular decision was made\n",
    "- **Performance**: Faster and more cost-effective than complex reasoning loops\n",
    "\n",
    "We use LangGraph's [Command system](https://langchain-ai.github.io/langgraph/how-tos/graph-api/#combine-control-flow-and-state-updates-with-command) to control workflow flow while simultaneously updating state. The `Command` object takes two key parameters:\n",
    "- `goto`: Specifies the next node to execute (or `END` to terminate)\n",
    "- `update`: Dictionary of state updates to apply before transitioning\n",
    "\n",
    "This pattern allows our functions to both process data and direct the workflow based on their results, creating a more flexible and maintainable system than traditional static graph structures."
   ]
  },
  {
   "cell_type": "code",
   "execution_count": 86,
   "metadata": {},
   "outputs": [],
   "source": [
    "import os, getpass\n",
    "\n",
    "def _set_env(var: str):\n",
    "    if not os.environ.get(var):\n",
    "        os.environ[var] = getpass.getpass(f\"{var}: \")\n",
    "\n",
    "_set_env(\"LANGSMITH_API_KEY\")\n",
    "os.environ[\"LANGSMITH_TRACING\"] = \"true\"\n",
    "os.environ[\"LANGSMITH_PROJECT\"] = \"langchain-scope-researcher\""
   ]
  },
  {
   "cell_type": "code",
   "execution_count": 97,
   "metadata": {},
   "outputs": [],
   "source": [
    "#%%writefile ../src/deep_research_from_scratch/scope_research.py \n",
    "\"\"\"\n",
    "User Clarification and Research Brief Generation\n",
    "\n",
    "This module implements the scoping phase of the research workflow, where we:\n",
    "1. Assess if the user's request needs clarification\n",
    "2. Generate a detailed research brief from the conversation\n",
    "\n",
    "The workflow uses structured output to make deterministic decisions about\n",
    "whether sufficient context exists to proceed with research.\n",
    "\"\"\"\n",
    "\n",
    "from datetime import datetime\n",
    "from typing import Literal\n",
    "\n",
    "from langchain.chat_models import init_chat_model\n",
    "from langchain_core.messages import HumanMessage, AIMessage, get_buffer_string\n",
    "from langgraph.graph import StateGraph, START, END\n",
    "from langgraph.types import Command\n",
    "from langgraph.graph import MessagesState\n",
    "from langchain_core.tools import tool\n",
    "\n",
    "# from deep_research_from_scratch.prompts import clarify_with_user_instructions, transform_messages_into_research_topic_prompt\n",
    "# from deep_research_from_scratch.state import AgentState, ClarifyWithUser, ResearchQuestion\n",
    "\n",
    "# ===== UTILITY FUNCTIONS =====\n",
    "\n",
    "def get_today_str() -> str:\n",
    "    \"\"\"Get current date in a human-readable format.\"\"\"\n",
    "    return datetime.now().strftime(\"%a %b %-d, %Y\")\n",
    "\n",
    "# ===== CONFIGURATION =====\n",
    "\n",
    "# Initialize model\n",
    "model = init_chat_model(model=\"openai:gpt-4.1\")\n",
    "\n",
    "\n",
    "# ===== Define a new tools =====\n",
    "\n",
    "def proceed_with_research( verification_message: str  ) -> str:\n",
    "    \"\"\"Call this tool when you have enough information to proceed with research.\"\"\"\n",
    "    return f\"Proceeding with research: {verification_message}\"\n",
    "\n",
    "# ===== WORKFLOW NODES =====\n",
    "\n",
    "# Bind tools to model\n",
    "llm_with_tools = model.bind_tools([proceed_with_research])\n",
    "\n",
    "def clarify_with_user(state: AgentState) -> Command[Literal[\"write_research_brief\", \"__end__\"]]:\n",
    "    response = llm_with_tools.invoke([HumanMessage(content=clarify_with_user_instructions_tools_version.format(\n",
    "             messages=get_buffer_string(messages=state[\"messages\"]), \n",
    "             date=get_today_str()\n",
    "         ))\n",
    "    ])\n",
    "    #print(response)\n",
    "    # Check if tools were called\n",
    "    if response.tool_calls:\n",
    "        tool_call = response.tool_calls[0]\n",
    "        if tool_call[\"name\"] == \"proceed_with_research\":\n",
    "            return Command(goto=\"write_research_brief\", \n",
    "                           update={\"messages\": [AIMessage(content=tool_call[\"args\"][\"verification_message\"])]})\n",
    "    else:\n",
    "        return Command(\n",
    "            goto=END, \n",
    "            update={\"messages\": [AIMessage(content=response.content)]}\n",
    "        )\n",
    "\n",
    "\n",
    "def write_research_brief(state: AgentState):\n",
    "    \"\"\"\n",
    "    Research brief generation node.\n",
    "    \n",
    "    Transforms the conversation history into a comprehensive research brief\n",
    "    that will guide the subsequent research phase.\n",
    "    \n",
    "    Uses structured output to ensure the brief follows the required format\n",
    "    and contains all necessary details for effective research.\n",
    "    \"\"\"\n",
    "    # Set up structured output model\n",
    "    structured_output_model = model.with_structured_output(ResearchQuestion)\n",
    "    \n",
    "    # Generate research brief from conversation history\n",
    "    response = structured_output_model.invoke([\n",
    "        HumanMessage(content=transform_messages_into_research_topic_prompt.format(\n",
    "            messages=get_buffer_string(state.get(\"messages\", [])),\n",
    "            date=get_today_str()\n",
    "        ))\n",
    "    ])\n",
    "    \n",
    "    # Update state with generated research brief\n",
    "    return {\n",
    "        \"research_brief\": response.research_brief,\n",
    "    }\n",
    "\n",
    "# ===== GRAPH CONSTRUCTION =====\n",
    "\n",
    "# Build the scoping workflow\n",
    "deep_researcher_builder = StateGraph(AgentState, input_schema=MessagesState)\n",
    "\n",
    "# Add workflow nodes\n",
    "deep_researcher_builder.add_node(\"clarify_with_user\", clarify_with_user)\n",
    "deep_researcher_builder.add_node(\"write_research_brief\", write_research_brief)\n",
    "\n",
    "# Add workflow edges\n",
    "deep_researcher_builder.add_edge(START, \"clarify_with_user\")\n",
    "deep_researcher_builder.add_edge(\"write_research_brief\", END)\n",
    "\n",
    "# Compile the workflow\n",
    "scope_research = deep_researcher_builder.compile()"
   ]
  },
  {
   "cell_type": "code",
   "execution_count": 98,
   "metadata": {},
   "outputs": [
    {
     "data": {
      "image/png": "[encoded data removed]",
      "text/plain": [
       "<IPython.core.display.Image object>"
      ]
     },
     "metadata": {},
     "output_type": "display_data"
    }
   ],
   "source": [
    "#%load_ext autoreload\n",
    "#%autoreload 2\n",
    "\n",
    "# Compile with in-memory checkpointer to test in notebook\n",
    "from IPython.display import Image, display\n",
    "from langgraph.checkpoint.memory import InMemorySaver\n",
    "#from deep_research_from_scratch.scope_research import deep_researcher_builder\n",
    "\n",
    "checkpointer = InMemorySaver()\n",
    "deep_researcher_ntbk_testing = deep_researcher_builder.compile(checkpointer=checkpointer)\n",
    "display(Image(deep_researcher_ntbk_testing.get_graph(xray=True).draw_mermaid_png()))"
   ]
  },
  {
   "cell_type": "code",
   "execution_count": 99,
   "metadata": {},
   "outputs": [
    {
     "name": "stderr",
     "output_type": "stream",
     "text": [
      "Task clarify_with_user with path ('__pregel_pull', 'clarify_with_user') wrote to unknown channel branch:to:__end__, ignoring it.\n"
     ]
    },
    {
     "data": {
      "text/html": [
       "<pre style=\"white-space:pre;overflow-x:auto;line-height:normal;font-family:Menlo,'DejaVu Sans Mono',consolas,'Courier New',monospace\"><span style=\"color: #000080; text-decoration-color: #000080\">╭─────────────────────────────────────────────────── 🧑 Human ────────────────────────────────────────────────────╮</span>\n",
       "<span style=\"color: #000080; text-decoration-color: #000080\">│</span> I want to research the best coffee shops in SF near me.                                                         <span style=\"color: #000080; text-decoration-color: #000080\">│</span>\n",
       "<span style=\"color: #000080; text-decoration-color: #000080\">╰─────────────────────────────────────────────────────────────────────────────────────────────────────────────────╯</span>\n",
       "</pre>\n"
      ],
      "text/plain": [
       "\u001b[34m╭─\u001b[0m\u001b[34m──────────────────────────────────────────────────\u001b[0m\u001b[34m 🧑 Human \u001b[0m\u001b[34m───────────────────────────────────────────────────\u001b[0m\u001b[34m─╮\u001b[0m\n",
       "\u001b[34m│\u001b[0m I want to research the best coffee shops in SF near me.                                                         \u001b[34m│\u001b[0m\n",
       "\u001b[34m╰─────────────────────────────────────────────────────────────────────────────────────────────────────────────────╯\u001b[0m\n"
      ]
     },
     "metadata": {},
     "output_type": "display_data"
    },
    {
     "data": {
      "text/html": [
       "<pre style=\"white-space:pre;overflow-x:auto;line-height:normal;font-family:Menlo,'DejaVu Sans Mono',consolas,'Courier New',monospace\"><span style=\"color: #c0c0c0; text-decoration-color: #c0c0c0\">╭───────────────────────────────────────────────────── 📝 AI ─────────────────────────────────────────────────────╮</span>\n",
       "<span style=\"color: #c0c0c0; text-decoration-color: #c0c0c0\">│</span> To research the best coffee shops in San Francisco near you, I would need to know your current location or      <span style=\"color: #c0c0c0; text-decoration-color: #c0c0c0\">│</span>\n",
       "<span style=\"color: #c0c0c0; text-decoration-color: #c0c0c0\">│</span> neighborhood in SF. Could you please provide your address, intersection, or the name of your neighborhood? This <span style=\"color: #c0c0c0; text-decoration-color: #c0c0c0\">│</span>\n",
       "<span style=\"color: #c0c0c0; text-decoration-color: #c0c0c0\">│</span> will help me find coffee shops that are actually near you. Thank you!                                           <span style=\"color: #c0c0c0; text-decoration-color: #c0c0c0\">│</span>\n",
       "<span style=\"color: #c0c0c0; text-decoration-color: #c0c0c0\">╰─────────────────────────────────────────────────────────────────────────────────────────────────────────────────╯</span>\n",
       "</pre>\n"
      ],
      "text/plain": [
       "\u001b[37m╭─\u001b[0m\u001b[37m────────────────────────────────────────────────────\u001b[0m\u001b[37m 📝 AI \u001b[0m\u001b[37m────────────────────────────────────────────────────\u001b[0m\u001b[37m─╮\u001b[0m\n",
       "\u001b[37m│\u001b[0m To research the best coffee shops in San Francisco near you, I would need to know your current location or      \u001b[37m│\u001b[0m\n",
       "\u001b[37m│\u001b[0m neighborhood in SF. Could you please provide your address, intersection, or the name of your neighborhood? This \u001b[37m│\u001b[0m\n",
       "\u001b[37m│\u001b[0m will help me find coffee shops that are actually near you. Thank you!                                           \u001b[37m│\u001b[0m\n",
       "\u001b[37m╰─────────────────────────────────────────────────────────────────────────────────────────────────────────────────╯\u001b[0m\n"
      ]
     },
     "metadata": {},
     "output_type": "display_data"
    }
   ],
   "source": [
    "# Run the workflow\n",
    "from utils import format_messages\n",
    "from langchain_core.messages import HumanMessage\n",
    "thread = {\"configurable\": {\"thread_id\": \"1\"}}\n",
    "result = deep_researcher_ntbk_testing.invoke({\"messages\": [HumanMessage(content=\"I want to research the best coffee shops in SF near me.\")]}, config=thread)\n",
    "format_messages(result['messages'])"
   ]
  },
  {
   "cell_type": "code",
   "execution_count": 100,
   "metadata": {},
   "outputs": [
    {
     "data": {
      "text/html": [
       "<pre style=\"white-space:pre;overflow-x:auto;line-height:normal;font-family:Menlo,'DejaVu Sans Mono',consolas,'Courier New',monospace\"><span style=\"color: #000080; text-decoration-color: #000080\">╭─────────────────────────────────────────────────── 🧑 Human ────────────────────────────────────────────────────╮</span>\n",
       "<span style=\"color: #000080; text-decoration-color: #000080\">│</span> I want to research the best coffee shops in SF near me.                                                         <span style=\"color: #000080; text-decoration-color: #000080\">│</span>\n",
       "<span style=\"color: #000080; text-decoration-color: #000080\">╰─────────────────────────────────────────────────────────────────────────────────────────────────────────────────╯</span>\n",
       "</pre>\n"
      ],
      "text/plain": [
       "\u001b[34m╭─\u001b[0m\u001b[34m──────────────────────────────────────────────────\u001b[0m\u001b[34m 🧑 Human \u001b[0m\u001b[34m───────────────────────────────────────────────────\u001b[0m\u001b[34m─╮\u001b[0m\n",
       "\u001b[34m│\u001b[0m I want to research the best coffee shops in SF near me.                                                         \u001b[34m│\u001b[0m\n",
       "\u001b[34m╰─────────────────────────────────────────────────────────────────────────────────────────────────────────────────╯\u001b[0m\n"
      ]
     },
     "metadata": {},
     "output_type": "display_data"
    },
    {
     "data": {
      "text/html": [
       "<pre style=\"white-space:pre;overflow-x:auto;line-height:normal;font-family:Menlo,'DejaVu Sans Mono',consolas,'Courier New',monospace\"><span style=\"color: #c0c0c0; text-decoration-color: #c0c0c0\">╭───────────────────────────────────────────────────── 📝 AI ─────────────────────────────────────────────────────╮</span>\n",
       "<span style=\"color: #c0c0c0; text-decoration-color: #c0c0c0\">│</span> To research the best coffee shops in San Francisco near you, I would need to know your current location or      <span style=\"color: #c0c0c0; text-decoration-color: #c0c0c0\">│</span>\n",
       "<span style=\"color: #c0c0c0; text-decoration-color: #c0c0c0\">│</span> neighborhood in SF. Could you please provide your address, intersection, or the name of your neighborhood? This <span style=\"color: #c0c0c0; text-decoration-color: #c0c0c0\">│</span>\n",
       "<span style=\"color: #c0c0c0; text-decoration-color: #c0c0c0\">│</span> will help me find coffee shops that are actually near you. Thank you!                                           <span style=\"color: #c0c0c0; text-decoration-color: #c0c0c0\">│</span>\n",
       "<span style=\"color: #c0c0c0; text-decoration-color: #c0c0c0\">╰─────────────────────────────────────────────────────────────────────────────────────────────────────────────────╯</span>\n",
       "</pre>\n"
      ],
      "text/plain": [
       "\u001b[37m╭─\u001b[0m\u001b[37m────────────────────────────────────────────────────\u001b[0m\u001b[37m 📝 AI \u001b[0m\u001b[37m────────────────────────────────────────────────────\u001b[0m\u001b[37m─╮\u001b[0m\n",
       "\u001b[37m│\u001b[0m To research the best coffee shops in San Francisco near you, I would need to know your current location or      \u001b[37m│\u001b[0m\n",
       "\u001b[37m│\u001b[0m neighborhood in SF. Could you please provide your address, intersection, or the name of your neighborhood? This \u001b[37m│\u001b[0m\n",
       "\u001b[37m│\u001b[0m will help me find coffee shops that are actually near you. Thank you!                                           \u001b[37m│\u001b[0m\n",
       "\u001b[37m╰─────────────────────────────────────────────────────────────────────────────────────────────────────────────────╯\u001b[0m\n"
      ]
     },
     "metadata": {},
     "output_type": "display_data"
    },
    {
     "data": {
      "text/html": [
       "<pre style=\"white-space:pre;overflow-x:auto;line-height:normal;font-family:Menlo,'DejaVu Sans Mono',consolas,'Courier New',monospace\"><span style=\"color: #000080; text-decoration-color: #000080\">╭─────────────────────────────────────────────────── 🧑 Human ────────────────────────────────────────────────────╮</span>\n",
       "<span style=\"color: #000080; text-decoration-color: #000080\">│</span> I live near 2nd street and Harrison in SF                                                                       <span style=\"color: #000080; text-decoration-color: #000080\">│</span>\n",
       "<span style=\"color: #000080; text-decoration-color: #000080\">╰─────────────────────────────────────────────────────────────────────────────────────────────────────────────────╯</span>\n",
       "</pre>\n"
      ],
      "text/plain": [
       "\u001b[34m╭─\u001b[0m\u001b[34m──────────────────────────────────────────────────\u001b[0m\u001b[34m 🧑 Human \u001b[0m\u001b[34m───────────────────────────────────────────────────\u001b[0m\u001b[34m─╮\u001b[0m\n",
       "\u001b[34m│\u001b[0m I live near 2nd street and Harrison in SF                                                                       \u001b[34m│\u001b[0m\n",
       "\u001b[34m╰─────────────────────────────────────────────────────────────────────────────────────────────────────────────────╯\u001b[0m\n"
      ]
     },
     "metadata": {},
     "output_type": "display_data"
    },
    {
     "data": {
      "text/html": [
       "<pre style=\"white-space:pre;overflow-x:auto;line-height:normal;font-family:Menlo,'DejaVu Sans Mono',consolas,'Courier New',monospace\"><span style=\"color: #c0c0c0; text-decoration-color: #c0c0c0\">╭───────────────────────────────────────────────────── 📝 AI ─────────────────────────────────────────────────────╮</span>\n",
       "<span style=\"color: #c0c0c0; text-decoration-color: #c0c0c0\">│</span> The user provided their location as near 2nd Street and Harrison in San Francisco. This is sufficient to begin  <span style=\"color: #c0c0c0; text-decoration-color: #c0c0c0\">│</span>\n",
       "<span style=\"color: #c0c0c0; text-decoration-color: #c0c0c0\">│</span> researching the best coffee shops near that area.                                                               <span style=\"color: #c0c0c0; text-decoration-color: #c0c0c0\">│</span>\n",
       "<span style=\"color: #c0c0c0; text-decoration-color: #c0c0c0\">╰─────────────────────────────────────────────────────────────────────────────────────────────────────────────────╯</span>\n",
       "</pre>\n"
      ],
      "text/plain": [
       "\u001b[37m╭─\u001b[0m\u001b[37m────────────────────────────────────────────────────\u001b[0m\u001b[37m 📝 AI \u001b[0m\u001b[37m────────────────────────────────────────────────────\u001b[0m\u001b[37m─╮\u001b[0m\n",
       "\u001b[37m│\u001b[0m The user provided their location as near 2nd Street and Harrison in San Francisco. This is sufficient to begin  \u001b[37m│\u001b[0m\n",
       "\u001b[37m│\u001b[0m researching the best coffee shops near that area.                                                               \u001b[37m│\u001b[0m\n",
       "\u001b[37m╰─────────────────────────────────────────────────────────────────────────────────────────────────────────────────╯\u001b[0m\n"
      ]
     },
     "metadata": {},
     "output_type": "display_data"
    }
   ],
   "source": [
    "result = deep_researcher_ntbk_testing.invoke({\"messages\": [HumanMessage(content=\"I live near 2nd street and Harrison in SF\")]}, config=thread)\n",
    "format_messages(result['messages'])"
   ]
  },
  {
   "cell_type": "code",
   "execution_count": 101,
   "metadata": {},
   "outputs": [
    {
     "data": {
      "text/html": [
       "<pre style=\"white-space:pre;overflow-x:auto;line-height:normal;font-family:Menlo,'DejaVu Sans Mono',consolas,'Courier New',monospace\">What are the best coffee shops within a reasonable walking distance of the intersection of 2nd Street and Harrison \n",
       "Street in San Francisco as of July 2025? Please include coffee shops that are highly rated for quality of coffee,  \n",
       "atmosphere, and service, based on recent user reviews and ratings (from platforms like Google Maps, Yelp, or       \n",
       "official coffee shop websites). I have not specified preferences for coffee style, food offerings, opening hours,  \n",
       "or ambiance, so please include a diverse range. Whenever possible, link directly to the official website or        \n",
       "reputable sources for each coffee shop. \"Best\" may be defined by overall user ratings, uniqueness, or local        \n",
       "popularity, so please state the key criteria for selection if they are not uniform.                                \n",
       "</pre>\n"
      ],
      "text/plain": [
       "What are the best coffee shops within a reasonable walking distance of the intersection of 2nd Street and Harrison \n",
       "Street in San Francisco as of July 2025? Please include coffee shops that are highly rated for quality of coffee,  \n",
       "atmosphere, and service, based on recent user reviews and ratings (from platforms like Google Maps, Yelp, or       \n",
       "official coffee shop websites). I have not specified preferences for coffee style, food offerings, opening hours,  \n",
       "or ambiance, so please include a diverse range. Whenever possible, link directly to the official website or        \n",
       "reputable sources for each coffee shop. \"Best\" may be defined by overall user ratings, uniqueness, or local        \n",
       "popularity, so please state the key criteria for selection if they are not uniform.                                \n"
      ]
     },
     "execution_count": 101,
     "metadata": {},
     "output_type": "execute_result"
    }
   ],
   "source": [
    "Markdown(result[\"research_brief\"])"
   ]
  },
  {
   "cell_type": "markdown",
   "metadata": {},
   "source": [
    "## What did you think?\n",
    "\n",
    "Which solution did you feel was best? \n",
    "Feel free to voice your opinion on the student forum!"
   ]
  },
  {
   "cell_type": "code",
   "execution_count": null,
   "metadata": {},
   "outputs": [],
   "source": []
  }
 ],
 "metadata": {
  "kernelspec": {
   "display_name": "Python 3 (ipykernel)",
   "language": "python",
   "name": "python3"
  },
  "language_info": {
   "codemirror_mode": {
    "name": "ipython",
    "version": 3
   },
   "file_extension": ".py",
   "mimetype": "text/x-python",
   "name": "python",
   "nbconvert_exporter": "python",
   "pygments_lexer": "ipython3",
   "version": "3.13.5"
  }
 },
 "nbformat": 4,
 "nbformat_minor": 4
}
